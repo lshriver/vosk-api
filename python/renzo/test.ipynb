{
 "cells": [
  {
   "cell_type": "code",
   "execution_count": 13,
   "metadata": {},
   "outputs": [],
   "source": [
    "import os\n",
    "\n",
    "# Append '/usr/bin/' to the PATH\n",
    "os.environ['PATH'] += os.pathsep + '/usr/bin/'"
   ]
  },
  {
   "cell_type": "code",
   "execution_count": 14,
   "metadata": {},
   "outputs": [
    {
     "name": "stderr",
     "output_type": "stream",
     "text": [
      "LOG (VoskAPI:ReadDataFiles():model.cc:213) Decoding params beam=13 max-active=7000 lattice-beam=6\n",
      "LOG (VoskAPI:ReadDataFiles():model.cc:216) Silence phones 1:2:3:4:5:11:12:13:14:15\n",
      "LOG (VoskAPI:RemoveOrphanNodes():nnet-nnet.cc:948) Removed 0 orphan nodes.\n",
      "LOG (VoskAPI:RemoveOrphanComponents():nnet-nnet.cc:847) Removing 0 orphan components.\n",
      "LOG (VoskAPI:ReadDataFiles():model.cc:248) Loading i-vector extractor from /workspaces/vosk-api/python/renzo/model1/ivector/final.ie\n",
      "LOG (VoskAPI:ComputeDerivedVars():ivector-extractor.cc:183) Computing derived variables for iVector extractor\n",
      "LOG (VoskAPI:ComputeDerivedVars():ivector-extractor.cc:204) Done.\n",
      "LOG (VoskAPI:ReadDataFiles():model.cc:282) Loading HCL and G from /workspaces/vosk-api/python/renzo/model1/graph/HCLr.fst /workspaces/vosk-api/python/renzo/model1/graph/Gr.fst\n",
      "LOG (VoskAPI:ReadDataFiles():model.cc:308) Loading winfo /workspaces/vosk-api/python/renzo/model1/graph/phones/word_boundary.int\n"
     ]
    }
   ],
   "source": [
    "import subprocess\n",
    "import sys\n",
    "import json\n",
    "from vosk import Model, KaldiRecognizer\n",
    "\n",
    "# Path to your Vosk model\n",
    "model_path = \"/workspaces/vosk-api/python/renzo/model1\"  # Update with your actual model path\n",
    "\n",
    "# Initialize the Vosk model\n",
    "model = Model(model_path)\n",
    "\n",
    "# Create a KaldiRecognizer with the model and sampling rate\n",
    "recognizer = KaldiRecognizer(model, 16000)"
   ]
  },
  {
   "cell_type": "code",
   "execution_count": null,
   "metadata": {},
   "outputs": [],
   "source": []
  },
  {
   "cell_type": "code",
   "execution_count": 15,
   "metadata": {},
   "outputs": [
    {
     "ename": "FileNotFoundError",
     "evalue": "[Errno 2] No such file or directory: 'streamlink'",
     "output_type": "error",
     "traceback": [
      "\u001b[0;31m---------------------------------------------------------------------------\u001b[0m",
      "\u001b[0;31mFileNotFoundError\u001b[0m                         Traceback (most recent call last)",
      "\u001b[1;32m/workspaces/vosk-api/python/renzo/test.ipynb Cell 3\u001b[0m line \u001b[0;36m2\n\u001b[1;32m     <a href='vscode-notebook-cell://codespaces%2Bprobable-pancake-pjppj5g597vw294jg/workspaces/vosk-api/python/renzo/test.ipynb#W2sdnNjb2RlLXJlbW90ZQ%3D%3D?line=11'>12</a>\u001b[0m ffmpeg_command \u001b[39m=\u001b[39m [\n\u001b[1;32m     <a href='vscode-notebook-cell://codespaces%2Bprobable-pancake-pjppj5g597vw294jg/workspaces/vosk-api/python/renzo/test.ipynb#W2sdnNjb2RlLXJlbW90ZQ%3D%3D?line=12'>13</a>\u001b[0m     \u001b[39m\"\u001b[39m\u001b[39mffmpeg\u001b[39m\u001b[39m\"\u001b[39m,\n\u001b[1;32m     <a href='vscode-notebook-cell://codespaces%2Bprobable-pancake-pjppj5g597vw294jg/workspaces/vosk-api/python/renzo/test.ipynb#W2sdnNjb2RlLXJlbW90ZQ%3D%3D?line=13'>14</a>\u001b[0m     \u001b[39m\"\u001b[39m\u001b[39m-loglevel\u001b[39m\u001b[39m\"\u001b[39m, \u001b[39m\"\u001b[39m\u001b[39mquiet\u001b[39m\u001b[39m\"\u001b[39m,  \u001b[39m# Suppress ffmpeg output if desired\u001b[39;00m\n\u001b[0;32m   (...)\u001b[0m\n\u001b[1;32m     <a href='vscode-notebook-cell://codespaces%2Bprobable-pancake-pjppj5g597vw294jg/workspaces/vosk-api/python/renzo/test.ipynb#W2sdnNjb2RlLXJlbW90ZQ%3D%3D?line=18'>19</a>\u001b[0m     \u001b[39m\"\u001b[39m\u001b[39mpipe:1\u001b[39m\u001b[39m\"\u001b[39m,              \u001b[39m# Output to stdout\u001b[39;00m\n\u001b[1;32m     <a href='vscode-notebook-cell://codespaces%2Bprobable-pancake-pjppj5g597vw294jg/workspaces/vosk-api/python/renzo/test.ipynb#W2sdnNjb2RlLXJlbW90ZQ%3D%3D?line=19'>20</a>\u001b[0m ]\n\u001b[1;32m     <a href='vscode-notebook-cell://codespaces%2Bprobable-pancake-pjppj5g597vw294jg/workspaces/vosk-api/python/renzo/test.ipynb#W2sdnNjb2RlLXJlbW90ZQ%3D%3D?line=21'>22</a>\u001b[0m \u001b[39m# Start the streamlink process\u001b[39;00m\n\u001b[0;32m---> <a href='vscode-notebook-cell://codespaces%2Bprobable-pancake-pjppj5g597vw294jg/workspaces/vosk-api/python/renzo/test.ipynb#W2sdnNjb2RlLXJlbW90ZQ%3D%3D?line=22'>23</a>\u001b[0m streamlink_process \u001b[39m=\u001b[39m subprocess\u001b[39m.\u001b[39;49mPopen(\n\u001b[1;32m     <a href='vscode-notebook-cell://codespaces%2Bprobable-pancake-pjppj5g597vw294jg/workspaces/vosk-api/python/renzo/test.ipynb#W2sdnNjb2RlLXJlbW90ZQ%3D%3D?line=23'>24</a>\u001b[0m     streamlink_command,\n\u001b[1;32m     <a href='vscode-notebook-cell://codespaces%2Bprobable-pancake-pjppj5g597vw294jg/workspaces/vosk-api/python/renzo/test.ipynb#W2sdnNjb2RlLXJlbW90ZQ%3D%3D?line=24'>25</a>\u001b[0m     stdout\u001b[39m=\u001b[39;49msubprocess\u001b[39m.\u001b[39;49mPIPE,\n\u001b[1;32m     <a href='vscode-notebook-cell://codespaces%2Bprobable-pancake-pjppj5g597vw294jg/workspaces/vosk-api/python/renzo/test.ipynb#W2sdnNjb2RlLXJlbW90ZQ%3D%3D?line=25'>26</a>\u001b[0m     stderr\u001b[39m=\u001b[39;49msubprocess\u001b[39m.\u001b[39;49mDEVNULL,\n\u001b[1;32m     <a href='vscode-notebook-cell://codespaces%2Bprobable-pancake-pjppj5g597vw294jg/workspaces/vosk-api/python/renzo/test.ipynb#W2sdnNjb2RlLXJlbW90ZQ%3D%3D?line=26'>27</a>\u001b[0m )\n\u001b[1;32m     <a href='vscode-notebook-cell://codespaces%2Bprobable-pancake-pjppj5g597vw294jg/workspaces/vosk-api/python/renzo/test.ipynb#W2sdnNjb2RlLXJlbW90ZQ%3D%3D?line=28'>29</a>\u001b[0m \u001b[39m# Start the ffmpeg process\u001b[39;00m\n\u001b[1;32m     <a href='vscode-notebook-cell://codespaces%2Bprobable-pancake-pjppj5g597vw294jg/workspaces/vosk-api/python/renzo/test.ipynb#W2sdnNjb2RlLXJlbW90ZQ%3D%3D?line=29'>30</a>\u001b[0m ffmpeg_process \u001b[39m=\u001b[39m subprocess\u001b[39m.\u001b[39mPopen(\n\u001b[1;32m     <a href='vscode-notebook-cell://codespaces%2Bprobable-pancake-pjppj5g597vw294jg/workspaces/vosk-api/python/renzo/test.ipynb#W2sdnNjb2RlLXJlbW90ZQ%3D%3D?line=30'>31</a>\u001b[0m     ffmpeg_command,\n\u001b[1;32m     <a href='vscode-notebook-cell://codespaces%2Bprobable-pancake-pjppj5g597vw294jg/workspaces/vosk-api/python/renzo/test.ipynb#W2sdnNjb2RlLXJlbW90ZQ%3D%3D?line=31'>32</a>\u001b[0m     stdin\u001b[39m=\u001b[39mstreamlink_process\u001b[39m.\u001b[39mstdout,  \u001b[39m# Get input from streamlink process\u001b[39;00m\n\u001b[1;32m     <a href='vscode-notebook-cell://codespaces%2Bprobable-pancake-pjppj5g597vw294jg/workspaces/vosk-api/python/renzo/test.ipynb#W2sdnNjb2RlLXJlbW90ZQ%3D%3D?line=32'>33</a>\u001b[0m     stdout\u001b[39m=\u001b[39msubprocess\u001b[39m.\u001b[39mPIPE,\n\u001b[1;32m     <a href='vscode-notebook-cell://codespaces%2Bprobable-pancake-pjppj5g597vw294jg/workspaces/vosk-api/python/renzo/test.ipynb#W2sdnNjb2RlLXJlbW90ZQ%3D%3D?line=33'>34</a>\u001b[0m     stderr\u001b[39m=\u001b[39msubprocess\u001b[39m.\u001b[39mDEVNULL,\n\u001b[1;32m     <a href='vscode-notebook-cell://codespaces%2Bprobable-pancake-pjppj5g597vw294jg/workspaces/vosk-api/python/renzo/test.ipynb#W2sdnNjb2RlLXJlbW90ZQ%3D%3D?line=34'>35</a>\u001b[0m )\n",
      "File \u001b[0;32m~/.python/current/lib/python3.12/subprocess.py:1026\u001b[0m, in \u001b[0;36mPopen.__init__\u001b[0;34m(self, args, bufsize, executable, stdin, stdout, stderr, preexec_fn, close_fds, shell, cwd, env, universal_newlines, startupinfo, creationflags, restore_signals, start_new_session, pass_fds, user, group, extra_groups, encoding, errors, text, umask, pipesize, process_group)\u001b[0m\n\u001b[1;32m   1022\u001b[0m         \u001b[39mif\u001b[39;00m \u001b[39mself\u001b[39m\u001b[39m.\u001b[39mtext_mode:\n\u001b[1;32m   1023\u001b[0m             \u001b[39mself\u001b[39m\u001b[39m.\u001b[39mstderr \u001b[39m=\u001b[39m io\u001b[39m.\u001b[39mTextIOWrapper(\u001b[39mself\u001b[39m\u001b[39m.\u001b[39mstderr,\n\u001b[1;32m   1024\u001b[0m                     encoding\u001b[39m=\u001b[39mencoding, errors\u001b[39m=\u001b[39merrors)\n\u001b[0;32m-> 1026\u001b[0m     \u001b[39mself\u001b[39;49m\u001b[39m.\u001b[39;49m_execute_child(args, executable, preexec_fn, close_fds,\n\u001b[1;32m   1027\u001b[0m                         pass_fds, cwd, env,\n\u001b[1;32m   1028\u001b[0m                         startupinfo, creationflags, shell,\n\u001b[1;32m   1029\u001b[0m                         p2cread, p2cwrite,\n\u001b[1;32m   1030\u001b[0m                         c2pread, c2pwrite,\n\u001b[1;32m   1031\u001b[0m                         errread, errwrite,\n\u001b[1;32m   1032\u001b[0m                         restore_signals,\n\u001b[1;32m   1033\u001b[0m                         gid, gids, uid, umask,\n\u001b[1;32m   1034\u001b[0m                         start_new_session, process_group)\n\u001b[1;32m   1035\u001b[0m \u001b[39mexcept\u001b[39;00m:\n\u001b[1;32m   1036\u001b[0m     \u001b[39m# Cleanup if the child failed starting.\u001b[39;00m\n\u001b[1;32m   1037\u001b[0m     \u001b[39mfor\u001b[39;00m f \u001b[39min\u001b[39;00m \u001b[39mfilter\u001b[39m(\u001b[39mNone\u001b[39;00m, (\u001b[39mself\u001b[39m\u001b[39m.\u001b[39mstdin, \u001b[39mself\u001b[39m\u001b[39m.\u001b[39mstdout, \u001b[39mself\u001b[39m\u001b[39m.\u001b[39mstderr)):\n",
      "File \u001b[0;32m~/.python/current/lib/python3.12/subprocess.py:1950\u001b[0m, in \u001b[0;36mPopen._execute_child\u001b[0;34m(self, args, executable, preexec_fn, close_fds, pass_fds, cwd, env, startupinfo, creationflags, shell, p2cread, p2cwrite, c2pread, c2pwrite, errread, errwrite, restore_signals, gid, gids, uid, umask, start_new_session, process_group)\u001b[0m\n\u001b[1;32m   1948\u001b[0m     \u001b[39mif\u001b[39;00m errno_num \u001b[39m!=\u001b[39m \u001b[39m0\u001b[39m:\n\u001b[1;32m   1949\u001b[0m         err_msg \u001b[39m=\u001b[39m os\u001b[39m.\u001b[39mstrerror(errno_num)\n\u001b[0;32m-> 1950\u001b[0m     \u001b[39mraise\u001b[39;00m child_exception_type(errno_num, err_msg, err_filename)\n\u001b[1;32m   1951\u001b[0m \u001b[39mraise\u001b[39;00m child_exception_type(err_msg)\n",
      "\u001b[0;31mFileNotFoundError\u001b[0m: [Errno 2] No such file or directory: 'streamlink'"
     ]
    }
   ],
   "source": [
    "# Command to capture audio from Twitch\n",
    "twitch_channel = \"twitch_channel_name\"  # Replace with the Twitch channel name\n",
    "\n",
    "streamlink_command = [\n",
    "    \"streamlink\",\n",
    "    f\"twitch.tv/{twitch_channel}\",\n",
    "    \"audio_only\",\n",
    "    \"--stdout\",  # Output to stdout\n",
    "]\n",
    "\n",
    "ffmpeg_path = '/usr/bin/ffmpeg'  # Replace with the actual path from 'which ffmpeg'\n",
    "ffmpeg_command = [\n",
    "    \"ffmpeg\",\n",
    "    \"-loglevel\", \"quiet\",  # Suppress ffmpeg output if desired\n",
    "    \"-i\", \"pipe:0\",        # Input from stdin\n",
    "    \"-ac\", \"1\",            # Mono audio\n",
    "    \"-ar\", \"16000\",        # Sampling rate 16000 Hz\n",
    "    \"-f\", \"s16le\",         # Output format\n",
    "    \"pipe:1\",              # Output to stdout\n",
    "]\n",
    "\n",
    "# Start the streamlink process\n",
    "streamlink_process = subprocess.Popen(\n",
    "    streamlink_command,\n",
    "    stdout=subprocess.PIPE,\n",
    "    stderr=subprocess.DEVNULL,\n",
    ")\n",
    "\n",
    "# Start the ffmpeg process\n",
    "ffmpeg_process = subprocess.Popen(\n",
    "    ffmpeg_command,\n",
    "    stdin=streamlink_process.stdout,  # Get input from streamlink process\n",
    "    stdout=subprocess.PIPE,\n",
    "    stderr=subprocess.DEVNULL,\n",
    ")\n",
    "\n",
    "# Ensure that streamlink_process.stdout doesn't get closed when ffmpeg_process exits\n",
    "streamlink_process.stdout.close()\n",
    "\n",
    "# Read audio data and transcribe\n",
    "try:\n",
    "    while True:\n",
    "        data = ffmpeg_process.stdout.read(4000)\n",
    "        if len(data) == 0:\n",
    "            break\n",
    "\n",
    "        if recognizer.AcceptWaveform(data):\n",
    "            result = recognizer.Result()\n",
    "            text = json.loads(result)[\"text\"]\n",
    "            if text:\n",
    "                print(f\"Transcript: {text}\")\n",
    "        else:\n",
    "            partial_result = recognizer.PartialResult()\n",
    "            partial_text = json.loads(partial_result)[\"partial\"]\n",
    "            # You can print partial results if desired\n",
    "            # print(f\"Partial: {partial_text}\")\n",
    "except KeyboardInterrupt:\n",
    "    pass\n",
    "finally:\n",
    "    ffmpeg_process.kill()\n",
    "    streamlink_process.kill()"
   ]
  },
  {
   "cell_type": "code",
   "execution_count": 20,
   "metadata": {},
   "outputs": [],
   "source": [
    "twitch_channel = \"renzoscriber\" "
   ]
  },
  {
   "cell_type": "markdown",
   "metadata": {},
   "source": [
    "Use this to create a `test_output.ts` file:\n",
    "\n",
    "`streamlink twitch.tv/renzoscriber audio_only --stdout > test_output.ts`"
   ]
  },
  {
   "cell_type": "code",
   "execution_count": 17,
   "metadata": {},
   "outputs": [
    {
     "name": "stdout",
     "output_type": "stream",
     "text": [
      "/workspaces/vosk-api/.venv/bin:/vscode/bin/linux-x64/fabdb6a30b49f79a7aba0f2ad9df9b399473380f/bin/remote-cli:/home/codespace/.local/bin:/home/codespace/.dotnet:/home/codespace/nvm/current/bin:/home/codespace/.php/current/bin:/home/codespace/.python/current/bin:/home/codespace/java/current/bin:/home/codespace/.ruby/current/bin:/home/codespace/.local/bin:/usr/local/python/current/bin:/usr/local/py-utils/bin:/usr/local/oryx:/usr/local/go/bin:/go/bin:/usr/local/sdkman/bin:/usr/local/sdkman/candidates/java/current/bin:/usr/local/sdkman/candidates/gradle/current/bin:/usr/local/sdkman/candidates/maven/current/bin:/usr/local/sdkman/candidates/ant/current/bin:/usr/local/rvm/gems/default/bin:/usr/local/rvm/gems/default@global/bin:/usr/local/rvm/rubies/default/bin:/usr/local/share/rbenv/bin:/usr/local/php/current/bin:/opt/conda/bin:/usr/local/nvs:/usr/local/share/nvm/current/bin:/usr/local/hugo/bin:/usr/local/sbin:/usr/local/bin:/usr/sbin:/usr/bin:/sbin:/bin:/usr/share/dotnet:/home/codespace/.dotnet/tools:/usr/local/rvm/bin:/usr/bin/:/usr/bin/:/usr/bin/:/usr/bin/:/usr/bin/:/usr/bin/\n"
     ]
    },
    {
     "name": "stderr",
     "output_type": "stream",
     "text": [
      "LOG (VoskAPI:ReadDataFiles():model.cc:213) Decoding params beam=13 max-active=7000 lattice-beam=6\n",
      "LOG (VoskAPI:ReadDataFiles():model.cc:216) Silence phones 1:2:3:4:5:11:12:13:14:15\n",
      "LOG (VoskAPI:RemoveOrphanNodes():nnet-nnet.cc:948) Removed 0 orphan nodes.\n",
      "LOG (VoskAPI:RemoveOrphanComponents():nnet-nnet.cc:847) Removing 0 orphan components.\n",
      "LOG (VoskAPI:ReadDataFiles():model.cc:248) Loading i-vector extractor from /workspaces/vosk-api/python/renzo/model1/ivector/final.ie\n",
      "LOG (VoskAPI:ComputeDerivedVars():ivector-extractor.cc:183) Computing derived variables for iVector extractor\n",
      "LOG (VoskAPI:ComputeDerivedVars():ivector-extractor.cc:204) Done.\n",
      "LOG (VoskAPI:ReadDataFiles():model.cc:282) Loading HCL and G from /workspaces/vosk-api/python/renzo/model1/graph/HCLr.fst /workspaces/vosk-api/python/renzo/model1/graph/Gr.fst\n",
      "LOG (VoskAPI:ReadDataFiles():model.cc:308) Loading winfo /workspaces/vosk-api/python/renzo/model1/graph/phones/word_boundary.int\n"
     ]
    },
    {
     "ename": "FileNotFoundError",
     "evalue": "[Errno 2] No such file or directory: 'ffmpeg'",
     "output_type": "error",
     "traceback": [
      "\u001b[0;31m---------------------------------------------------------------------------\u001b[0m",
      "\u001b[0;31mFileNotFoundError\u001b[0m                         Traceback (most recent call last)",
      "\u001b[1;32m/workspaces/vosk-api/python/renzo/test.ipynb Cell 7\u001b[0m line \u001b[0;36m3\n\u001b[1;32m     <a href='vscode-notebook-cell://codespaces%2Bprobable-pancake-pjppj5g597vw294jg/workspaces/vosk-api/python/renzo/test.ipynb#W5sdnNjb2RlLXJlbW90ZQ%3D%3D?line=23'>24</a>\u001b[0m ffmpeg_command \u001b[39m=\u001b[39m [\n\u001b[1;32m     <a href='vscode-notebook-cell://codespaces%2Bprobable-pancake-pjppj5g597vw294jg/workspaces/vosk-api/python/renzo/test.ipynb#W5sdnNjb2RlLXJlbW90ZQ%3D%3D?line=24'>25</a>\u001b[0m     \u001b[39m'\u001b[39m\u001b[39mffmpeg\u001b[39m\u001b[39m'\u001b[39m,\n\u001b[1;32m     <a href='vscode-notebook-cell://codespaces%2Bprobable-pancake-pjppj5g597vw294jg/workspaces/vosk-api/python/renzo/test.ipynb#W5sdnNjb2RlLXJlbW90ZQ%3D%3D?line=25'>26</a>\u001b[0m     \u001b[39m\"\u001b[39m\u001b[39m-i\u001b[39m\u001b[39m\"\u001b[39m, \u001b[39m\"\u001b[39m\u001b[39m/workspaces/vosk-api/test_output0.ts\u001b[39m\u001b[39m\"\u001b[39m,     \u001b[39m# Use the .ts file as input\u001b[39;00m\n\u001b[0;32m   (...)\u001b[0m\n\u001b[1;32m     <a href='vscode-notebook-cell://codespaces%2Bprobable-pancake-pjppj5g597vw294jg/workspaces/vosk-api/python/renzo/test.ipynb#W5sdnNjb2RlLXJlbW90ZQ%3D%3D?line=29'>30</a>\u001b[0m     \u001b[39m\"\u001b[39m\u001b[39mpipe:1\u001b[39m\u001b[39m\"\u001b[39m,                   \u001b[39m# Output to stdout\u001b[39;00m\n\u001b[1;32m     <a href='vscode-notebook-cell://codespaces%2Bprobable-pancake-pjppj5g597vw294jg/workspaces/vosk-api/python/renzo/test.ipynb#W5sdnNjb2RlLXJlbW90ZQ%3D%3D?line=30'>31</a>\u001b[0m ]\n\u001b[1;32m     <a href='vscode-notebook-cell://codespaces%2Bprobable-pancake-pjppj5g597vw294jg/workspaces/vosk-api/python/renzo/test.ipynb#W5sdnNjb2RlLXJlbW90ZQ%3D%3D?line=32'>33</a>\u001b[0m \u001b[39m# Start the ffmpeg process to convert the .ts file to raw audio\u001b[39;00m\n\u001b[0;32m---> <a href='vscode-notebook-cell://codespaces%2Bprobable-pancake-pjppj5g597vw294jg/workspaces/vosk-api/python/renzo/test.ipynb#W5sdnNjb2RlLXJlbW90ZQ%3D%3D?line=33'>34</a>\u001b[0m ffmpeg_process \u001b[39m=\u001b[39m subprocess\u001b[39m.\u001b[39;49mPopen(\n\u001b[1;32m     <a href='vscode-notebook-cell://codespaces%2Bprobable-pancake-pjppj5g597vw294jg/workspaces/vosk-api/python/renzo/test.ipynb#W5sdnNjb2RlLXJlbW90ZQ%3D%3D?line=34'>35</a>\u001b[0m     ffmpeg_command,\n\u001b[1;32m     <a href='vscode-notebook-cell://codespaces%2Bprobable-pancake-pjppj5g597vw294jg/workspaces/vosk-api/python/renzo/test.ipynb#W5sdnNjb2RlLXJlbW90ZQ%3D%3D?line=35'>36</a>\u001b[0m     stdout\u001b[39m=\u001b[39;49msubprocess\u001b[39m.\u001b[39;49mPIPE,\n\u001b[1;32m     <a href='vscode-notebook-cell://codespaces%2Bprobable-pancake-pjppj5g597vw294jg/workspaces/vosk-api/python/renzo/test.ipynb#W5sdnNjb2RlLXJlbW90ZQ%3D%3D?line=36'>37</a>\u001b[0m     stderr\u001b[39m=\u001b[39;49msubprocess\u001b[39m.\u001b[39;49mPIPE,   \u001b[39m# Capture stderr for debugging\u001b[39;49;00m\n\u001b[1;32m     <a href='vscode-notebook-cell://codespaces%2Bprobable-pancake-pjppj5g597vw294jg/workspaces/vosk-api/python/renzo/test.ipynb#W5sdnNjb2RlLXJlbW90ZQ%3D%3D?line=37'>38</a>\u001b[0m )\n\u001b[1;32m     <a href='vscode-notebook-cell://codespaces%2Bprobable-pancake-pjppj5g597vw294jg/workspaces/vosk-api/python/renzo/test.ipynb#W5sdnNjb2RlLXJlbW90ZQ%3D%3D?line=39'>40</a>\u001b[0m \u001b[39m# Read audio data and transcribe\u001b[39;00m\n\u001b[1;32m     <a href='vscode-notebook-cell://codespaces%2Bprobable-pancake-pjppj5g597vw294jg/workspaces/vosk-api/python/renzo/test.ipynb#W5sdnNjb2RlLXJlbW90ZQ%3D%3D?line=40'>41</a>\u001b[0m \u001b[39mtry\u001b[39;00m:\n",
      "File \u001b[0;32m~/.python/current/lib/python3.12/subprocess.py:1026\u001b[0m, in \u001b[0;36mPopen.__init__\u001b[0;34m(self, args, bufsize, executable, stdin, stdout, stderr, preexec_fn, close_fds, shell, cwd, env, universal_newlines, startupinfo, creationflags, restore_signals, start_new_session, pass_fds, user, group, extra_groups, encoding, errors, text, umask, pipesize, process_group)\u001b[0m\n\u001b[1;32m   1022\u001b[0m         \u001b[39mif\u001b[39;00m \u001b[39mself\u001b[39m\u001b[39m.\u001b[39mtext_mode:\n\u001b[1;32m   1023\u001b[0m             \u001b[39mself\u001b[39m\u001b[39m.\u001b[39mstderr \u001b[39m=\u001b[39m io\u001b[39m.\u001b[39mTextIOWrapper(\u001b[39mself\u001b[39m\u001b[39m.\u001b[39mstderr,\n\u001b[1;32m   1024\u001b[0m                     encoding\u001b[39m=\u001b[39mencoding, errors\u001b[39m=\u001b[39merrors)\n\u001b[0;32m-> 1026\u001b[0m     \u001b[39mself\u001b[39;49m\u001b[39m.\u001b[39;49m_execute_child(args, executable, preexec_fn, close_fds,\n\u001b[1;32m   1027\u001b[0m                         pass_fds, cwd, env,\n\u001b[1;32m   1028\u001b[0m                         startupinfo, creationflags, shell,\n\u001b[1;32m   1029\u001b[0m                         p2cread, p2cwrite,\n\u001b[1;32m   1030\u001b[0m                         c2pread, c2pwrite,\n\u001b[1;32m   1031\u001b[0m                         errread, errwrite,\n\u001b[1;32m   1032\u001b[0m                         restore_signals,\n\u001b[1;32m   1033\u001b[0m                         gid, gids, uid, umask,\n\u001b[1;32m   1034\u001b[0m                         start_new_session, process_group)\n\u001b[1;32m   1035\u001b[0m \u001b[39mexcept\u001b[39;00m:\n\u001b[1;32m   1036\u001b[0m     \u001b[39m# Cleanup if the child failed starting.\u001b[39;00m\n\u001b[1;32m   1037\u001b[0m     \u001b[39mfor\u001b[39;00m f \u001b[39min\u001b[39;00m \u001b[39mfilter\u001b[39m(\u001b[39mNone\u001b[39;00m, (\u001b[39mself\u001b[39m\u001b[39m.\u001b[39mstdin, \u001b[39mself\u001b[39m\u001b[39m.\u001b[39mstdout, \u001b[39mself\u001b[39m\u001b[39m.\u001b[39mstderr)):\n",
      "File \u001b[0;32m~/.python/current/lib/python3.12/subprocess.py:1950\u001b[0m, in \u001b[0;36mPopen._execute_child\u001b[0;34m(self, args, executable, preexec_fn, close_fds, pass_fds, cwd, env, startupinfo, creationflags, shell, p2cread, p2cwrite, c2pread, c2pwrite, errread, errwrite, restore_signals, gid, gids, uid, umask, start_new_session, process_group)\u001b[0m\n\u001b[1;32m   1948\u001b[0m     \u001b[39mif\u001b[39;00m errno_num \u001b[39m!=\u001b[39m \u001b[39m0\u001b[39m:\n\u001b[1;32m   1949\u001b[0m         err_msg \u001b[39m=\u001b[39m os\u001b[39m.\u001b[39mstrerror(errno_num)\n\u001b[0;32m-> 1950\u001b[0m     \u001b[39mraise\u001b[39;00m child_exception_type(errno_num, err_msg, err_filename)\n\u001b[1;32m   1951\u001b[0m \u001b[39mraise\u001b[39;00m child_exception_type(err_msg)\n",
      "\u001b[0;31mFileNotFoundError\u001b[0m: [Errno 2] No such file or directory: 'ffmpeg'"
     ]
    }
   ],
   "source": [
    "import subprocess\n",
    "import sys\n",
    "import json\n",
    "from vosk import Model, KaldiRecognizer\n",
    "import os\n",
    "import ffmpeg\n",
    "\n",
    "# Ensure ffmpeg is in PATH\n",
    "os.environ['PATH'] += os.pathsep + '/usr/bin/'\n",
    "\n",
    "# Verify PATH (optional)\n",
    "print(os.environ['PATH'])\n",
    "\n",
    "# Path to your Vosk model\n",
    "model_path = \"/workspaces/vosk-api/python/renzo/model1\"  # Update with your actual model path\n",
    "\n",
    "# Initialize the Vosk model\n",
    "model = Model(model_path)\n",
    "\n",
    "# Create a KaldiRecognizer with the model and sampling rate\n",
    "recognizer = KaldiRecognizer(model, 16000)\n",
    "\n",
    "# FFmpeg command to read from test_output.ts instead of live stream\n",
    "ffmpeg_command = [\n",
    "    'ffmpeg',\n",
    "    \"-i\", \"/workspaces/vosk-api/test_output0.ts\",     # Use the .ts file as input\n",
    "    \"-ac\", \"1\",                 # Mono audio\n",
    "    \"-ar\", \"16000\",             # Sampling rate 16000 Hz\n",
    "    \"-f\", \"s16le\",              # Output format\n",
    "    \"pipe:1\",                   # Output to stdout\n",
    "]\n",
    "\n",
    "# Start the ffmpeg process to convert the .ts file to raw audio\n",
    "ffmpeg_process = subprocess.Popen(\n",
    "    ffmpeg_command,\n",
    "    stdout=subprocess.PIPE,\n",
    "    stderr=subprocess.PIPE,   # Capture stderr for debugging\n",
    ")\n",
    "\n",
    "# Read audio data and transcribe\n",
    "try:\n",
    "    while True:\n",
    "        data = ffmpeg_process.stdout.read(4000)\n",
    "        if len(data) == 0:\n",
    "            break\n",
    "\n",
    "        if recognizer.AcceptWaveform(data):\n",
    "            result = recognizer.Result()\n",
    "            text = json.loads(result)[\"text\"]\n",
    "            if text:\n",
    "                print(f\"Transcript: {text}\")\n",
    "        else:\n",
    "            partial_result = recognizer.PartialResult()\n",
    "            partial_text = json.loads(partial_result)[\"partial\"]\n",
    "            # You can print partial results if desired\n",
    "            # print(f\"Partial: {partial_text}\")\n",
    "except KeyboardInterrupt:\n",
    "    pass\n",
    "finally:\n",
    "    # Read and print any errors from ffmpeg before closing and killing the process\n",
    "    ffmpeg_errors = ffmpeg_process.stderr.read().decode('utf-8')\n",
    "    if ffmpeg_errors:\n",
    "        print(f\"FFmpeg Error: {ffmpeg_errors}\")\n",
    "\n",
    "    # Close and kill the process\n",
    "    ffmpeg_process.stderr.close()\n",
    "    ffmpeg_process.stdout.close()\n",
    "    ffmpeg_process.kill()"
   ]
  }
 ],
 "metadata": {
  "language_info": {
   "name": "python"
  }
 },
 "nbformat": 4,
 "nbformat_minor": 2
}
